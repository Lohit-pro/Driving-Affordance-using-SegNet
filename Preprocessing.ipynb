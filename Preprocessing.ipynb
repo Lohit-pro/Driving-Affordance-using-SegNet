{
  "nbformat": 4,
  "nbformat_minor": 0,
  "metadata": {
    "colab": {
      "provenance": []
    },
    "kernelspec": {
      "name": "python3",
      "display_name": "Python 3"
    },
    "language_info": {
      "name": "python"
    }
  },
  "cells": [
    {
      "cell_type": "code",
      "execution_count": null,
      "metadata": {
        "id": "ydr8zoOdudok"
      },
      "outputs": [],
      "source": [
        "import os\n",
        "import cv2\n",
        "import sys\n",
        "import json\n",
        "\n",
        "import numpy as np\n",
        "import skimage.io as io\n",
        "\n",
        "from skimage.draw import polygon\n",
        "from skimage import img_as_float"
      ]
    },
    {
      "cell_type": "code",
      "source": [
        "root = '/content/drive/MyDrive/Cityscapes/final_train/'\n"
      ],
      "metadata": {
        "id": "bxUos861uvx9"
      },
      "execution_count": null,
      "outputs": []
    },
    {
      "cell_type": "code",
      "source": [
        "def get_all_labels(root):\n",
        "    labels = []\n",
        "    final_labels = {}\n",
        "\n",
        "    img_folder =\n",
        "    segmap_folder =\n",
        "\n",
        "#     sub_path_train_img = os.path.join(root, img_folder, './train')\n",
        "    sub_path_train_seg = os.path.join(root, segmap_folder, '/content/drive/MyDrive/Cityscapes/final_train/seg/train')\n",
        "\n",
        "#     sub_path_val_img = os.path.join(root, img_folder, './val')\n",
        "    #sub_path_val_seg = os.path.join(root, segmap_folder, './val')\n",
        "\n",
        "    # extract training labels\n",
        "    for folder in os.listdir(sub_path_train_seg):\n",
        "#         curr_img_folder = os.path.join(sub_path_train_img, folder)\n",
        "        curr_seg_folder = os.path.join(sub_path_train_seg, folder)\n",
        "        for file in os.listdir(curr_seg_folder):\n",
        "            if 'json' not in file:\n",
        "                continue\n",
        "            f = open(os.path.join(curr_seg_folder, file), 'r')\n",
        "            data = json.loads(f.read())\n",
        "            for obj in data['objects']:\n",
        "                if obj['label'] not in labels:\n",
        "                    labels.append(obj['label'])\n",
        "\n",
        "    # extract validation labels\n",
        "    #for folder in os.listdir(sub_path_val_seg):\n",
        "#         curr_img_folder = os.path.join(sub_path_val_img, folder)\n",
        "        #curr_seg_folder = os.path.join(sub_path_val_seg, folder)\n",
        "        #for file in os.listdir(curr_seg_folder):\n",
        "            #if 'json' not in file:\n",
        "                #continue\n",
        "            #f = open(os.path.join(curr_seg_folder, file), 'r')\n",
        "            #data = json.loads(f.read())\n",
        "            #for obj in data['objects']:\n",
        "                #if obj['label'] not in labels:\n",
        "                    #labels.append(obj['label'])\n",
        "\n",
        "    for i in range(len(labels)):\n",
        "        final_labels[labels[i]] = i\n",
        "    return final_labels"
      ],
      "metadata": {
        "id": "Ywwz0DRyuyi8"
      },
      "execution_count": null,
      "outputs": []
    },
    {
      "cell_type": "code",
      "source": [
        "labels = get_all_labels(root)\n"
      ],
      "metadata": {
        "id": "PSIYYaqsvBTm",
        "colab": {
          "base_uri": "https://localhost:8080/",
          "height": 299
        },
        "outputId": "fafc0a7c-2443-4690-cb25-617a480762e5"
      },
      "execution_count": null,
      "outputs": [
        {
          "output_type": "error",
          "ename": "ValueError",
          "evalue": "ignored",
          "traceback": [
            "\u001b[0;31m---------------------------------------------------------------------------\u001b[0m",
            "\u001b[0;31mValueError\u001b[0m                                Traceback (most recent call last)",
            "\u001b[0;32m<ipython-input-4-e87a71f4a290>\u001b[0m in \u001b[0;36m<cell line: 1>\u001b[0;34m()\u001b[0m\n\u001b[0;32m----> 1\u001b[0;31m \u001b[0mlabels\u001b[0m \u001b[0;34m=\u001b[0m \u001b[0mget_all_labels\u001b[0m\u001b[0;34m(\u001b[0m\u001b[0mroot\u001b[0m\u001b[0;34m)\u001b[0m\u001b[0;34m\u001b[0m\u001b[0;34m\u001b[0m\u001b[0m\n\u001b[0m",
            "\u001b[0;32m<ipython-input-3-e1a897c5cd42>\u001b[0m in \u001b[0;36mget_all_labels\u001b[0;34m(root)\u001b[0m\n\u001b[1;32m      3\u001b[0m     \u001b[0mfinal_labels\u001b[0m \u001b[0;34m=\u001b[0m \u001b[0;34m{\u001b[0m\u001b[0;34m}\u001b[0m\u001b[0;34m\u001b[0m\u001b[0;34m\u001b[0m\u001b[0m\n\u001b[1;32m      4\u001b[0m \u001b[0;34m\u001b[0m\u001b[0m\n\u001b[0;32m----> 5\u001b[0;31m     \u001b[0mimg_folder\u001b[0m\u001b[0;34m,\u001b[0m \u001b[0msegmap_folder\u001b[0m \u001b[0;34m=\u001b[0m \u001b[0mos\u001b[0m\u001b[0;34m.\u001b[0m\u001b[0mlistdir\u001b[0m\u001b[0;34m(\u001b[0m\u001b[0mroot\u001b[0m\u001b[0;34m)\u001b[0m\u001b[0;34m\u001b[0m\u001b[0;34m\u001b[0m\u001b[0m\n\u001b[0m\u001b[1;32m      6\u001b[0m \u001b[0;34m\u001b[0m\u001b[0m\n\u001b[1;32m      7\u001b[0m \u001b[0;31m#     sub_path_train_img = os.path.join(root, img_folder, './train')\u001b[0m\u001b[0;34m\u001b[0m\u001b[0;34m\u001b[0m\u001b[0m\n",
            "\u001b[0;31mValueError\u001b[0m: too many values to unpack (expected 2)"
          ]
        }
      ]
    },
    {
      "cell_type": "code",
      "source": [
        "labels"
      ],
      "metadata": {
        "colab": {
          "base_uri": "https://localhost:8080/",
          "height": 167
        },
        "id": "d5frhBjMveU_",
        "outputId": "a995bde0-07b3-49b3-87a6-d5a292402e78"
      },
      "execution_count": null,
      "outputs": [
        {
          "output_type": "error",
          "ename": "NameError",
          "evalue": "ignored",
          "traceback": [
            "\u001b[0;31m---------------------------------------------------------------------------\u001b[0m",
            "\u001b[0;31mNameError\u001b[0m                                 Traceback (most recent call last)",
            "\u001b[0;32m<ipython-input-4-0a1df294b701>\u001b[0m in \u001b[0;36m<cell line: 1>\u001b[0;34m()\u001b[0m\n\u001b[0;32m----> 1\u001b[0;31m \u001b[0mlabels\u001b[0m\u001b[0;34m\u001b[0m\u001b[0;34m\u001b[0m\u001b[0m\n\u001b[0m",
            "\u001b[0;31mNameError\u001b[0m: name 'labels' is not defined"
          ]
        }
      ]
    },
    {
      "cell_type": "markdown",
      "source": [
        "seg maps"
      ],
      "metadata": {
        "id": "NXUp_6rjwBMH"
      }
    },
    {
      "cell_type": "code",
      "source": [
        "def create_segmentation_maps(root, labels):\n",
        "    img_folder, segmap_folder = os.listdir(root)\n",
        "\n",
        "    if not os.path.exists('./img'):\n",
        "        os.makedirs('img')\n",
        "    if not os.path.exists('./img/train'):\n",
        "        os.makedirs('img/train')\n",
        "    if not os.path.exists('./img/val'):\n",
        "        os.makedirs('img/val')\n",
        "\n",
        "    if not os.path.exists('./seg'):\n",
        "        os.makedirs('seg')\n",
        "    if not os.path.exists('./seg/train'):\n",
        "        os.makedirs('seg/train')\n",
        "    if not os.path.exists('./seg/val'):\n",
        "        os.makedirs('seg/val')\n",
        "\n",
        "    sub_path_train_img = os.path.join(root, img_folder, '/content/drive/MyDrive/Cityscapes/final_train/img/train')\n",
        "    sub_path_train_seg = os.path.join(root, segmap_folder, '/content/drive/MyDrive/Cityscapes/final_train/seg/train')\n",
        "\n",
        "    sub_path_val_img = os.path.join(root, img_folder, '/content/drive/MyDrive/Cityscapes/final_train/img/val')\n",
        "    sub_path_val_seg = os.path.join(root, segmap_folder, '/content/drive/MyDrive/Cityscapes/final_train/seg/val')\n",
        "\n",
        "    for folder in os.listdir(sub_path_train_seg):\n",
        "        curr_img_folder = os.path.join(sub_path_train_img, folder)\n",
        "        curr_seg_folder = os.path.join(sub_path_train_seg, folder)\n",
        "\n",
        "        for file in os.listdir(curr_img_folder):\n",
        "            id = file.split('_')[0]+'_'+file.split('_')[1]+'_'+file.split('_')[2]\n",
        "            img = cv2.imread(os.path.join(curr_img_folder, file))\n",
        "\n",
        "            f = open(os.path.join(curr_seg_folder, id+'_gtFine_polygons.json'), 'r')\n",
        "            data = json.loads(f.read())\n",
        "            seg_map = np.zeros((data['imgWidth'],data['imgHeight']))\n",
        "            for obj in data['objects']:\n",
        "                label = obj['label']\n",
        "                poly = np.array(obj['polygon'])\n",
        "                rr, cc = polygon(poly[:,0], poly[:,1], seg_map.shape)\n",
        "                seg_map[rr,cc] = labels[label]\n",
        "\n",
        "            cv2.imwrite('/content/drive/MyDrive/Cityscapes/final_train/img/train/'+id+'.png', img)\n",
        "            cv2.imwrite('/content/drive/MyDrive/Cityscapes/final_train/seg/train/'+id+'.png', seg_map.T)\n",
        "\n",
        "    for folder in os.listdir(sub_path_val_seg):\n",
        "        curr_img_folder = os.path.join(sub_path_val_img, folder)\n",
        "        curr_seg_folder = os.path.join(sub_path_val_seg, folder)\n",
        "\n",
        "        for file in os.listdir(curr_img_folder):\n",
        "            id = file.split('_')[0]+'_'+file.split('_')[1]+'_'+file.split('_')[2]\n",
        "            img = cv2.imread(os.path.join(curr_img_folder, file))\n",
        "\n",
        "            f = open(os.path.join(curr_seg_folder, id+'_gtFine_polygons.json'), 'r')\n",
        "            data = json.loads(f.read())\n",
        "            seg_map = np.zeros((data['imgWidth'],data['imgHeight']), np.uint8)\n",
        "            for obj in data['objects']:\n",
        "                label = obj['label']\n",
        "                poly = np.array(obj['polygon'])\n",
        "                rr, cc = polygon(poly[:,0], poly[:,1], seg_map.shape)\n",
        "                seg_map[rr,cc] = labels[label]\n",
        "\n",
        "            cv2.imwrite('/content/drive/MyDrive/Cityscapes/final_train/img/val/'+id+'.png', img)\n",
        "            cv2.imwrite('/content/drive/MyDrive/Cityscapes/final_train/seg/val/'+id+'.png', seg_map.T)"
      ],
      "metadata": {
        "id": "33oo4Kr5v9jN"
      },
      "execution_count": null,
      "outputs": []
    },
    {
      "cell_type": "code",
      "source": [
        "create_segmentation_maps(root, labels)\n"
      ],
      "metadata": {
        "id": "6mGaoYHFyNhg"
      },
      "execution_count": null,
      "outputs": []
    },
    {
      "cell_type": "markdown",
      "source": [
        "SubSets generator"
      ],
      "metadata": {
        "id": "S1MiaOw731GT"
      }
    },
    {
      "cell_type": "code",
      "source": [
        "np.random.seed(42)"
      ],
      "metadata": {
        "id": "pWDn66Va33V7"
      },
      "execution_count": null,
      "outputs": []
    },
    {
      "cell_type": "code",
      "source": [
        "train_subset_size, val_subset_size = 1965, 59"
      ],
      "metadata": {
        "id": "Lllnannu5NjO"
      },
      "execution_count": null,
      "outputs": []
    },
    {
      "cell_type": "code",
      "source": [
        "train_img_path, train_seg_path = '/content/drive/MyDrive/Cityscapes/final_train/img/train/', '/content/drive/MyDrive/Cityscapes/final_train/seg/train/'\n",
        "val_img_path, val_seg_path = '/content/drive/MyDrive/Cityscapes/final_train/img/val/', '/content/drive/MyDrive/Cityscapes/final_train/seg/val/'"
      ],
      "metadata": {
        "id": "jmYuGGK45oVU"
      },
      "execution_count": null,
      "outputs": []
    },
    {
      "cell_type": "code",
      "source": [
        "train_random_indices = np.random.permutation(len(os.listdir(train_img_path)))[:train_subset_size]\n",
        "val_random_indices = np.random.permutation(len(os.listdir(val_img_path)))[:val_subset_size]"
      ],
      "metadata": {
        "id": "C_fCOiig57Nd"
      },
      "execution_count": null,
      "outputs": []
    },
    {
      "cell_type": "code",
      "source": [
        "if not os.path.exists('/content/drive/MyDrive/Cityscapes/final_train/img/subset_train'):\n",
        "    os.makedirs('/content/drive/MyDrive/Cityscapes/final_train/img/subset_train')\n",
        "if not os.path.exists('/content/drive/MyDrive/Cityscapes/final_train/img/subset_val'):\n",
        "    os.makedirs('/content/drive/MyDrive/Cityscapes/final_train/img/subset_val')\n",
        "\n",
        "if not os.path.exists('/content/drive/MyDrive/Cityscapes/final_train/seg/subset_train'):\n",
        "    os.makedirs('/content/drive/MyDrive/Cityscapes/final_train/seg/subset_train')\n",
        "if not os.path.exists('/content/drive/MyDrive/Cityscapes/final_train/seg/subset_val'):\n",
        "    os.makedirs('/content/drive/MyDrive/Cityscapes/final_train/seg/subset_val')"
      ],
      "metadata": {
        "id": "7RmOA2vE5_Vb"
      },
      "execution_count": null,
      "outputs": []
    },
    {
      "cell_type": "code",
      "source": [
        "train_img_list, train_seg_list = os.listdir(train_img_path), os.listdir(train_seg_path)\n",
        "for i in train_random_indices:\n",
        "    img = cv2.imread(os.path.join(train_img_path, train_img_list[i]))\n",
        "    seg = cv2.imread(os.path.join(train_seg_path, train_seg_list[i]))\n",
        "\n",
        "    cv2.imwrite('/content/drive/MyDrive/Cityscapes/final_train/img/subset_train/'+str(i)+'.png', img)\n",
        "    cv2.imwrite('/content/drive/MyDrive/Cityscapes/final_train/seg/subset_train/'+str(i)+'.png', seg)"
      ],
      "metadata": {
        "colab": {
          "base_uri": "https://localhost:8080/",
          "height": 219
        },
        "id": "jYM9WXJ46ljs",
        "outputId": "9f99b916-6b9e-4e8b-b2fc-96270f6669a7"
      },
      "execution_count": null,
      "outputs": [
        {
          "output_type": "error",
          "ename": "error",
          "evalue": "ignored",
          "traceback": [
            "\u001b[0;31m---------------------------------------------------------------------------\u001b[0m",
            "\u001b[0;31merror\u001b[0m                                     Traceback (most recent call last)",
            "\u001b[0;32m<ipython-input-13-561e1f6b0cbb>\u001b[0m in \u001b[0;36m<cell line: 2>\u001b[0;34m()\u001b[0m\n\u001b[1;32m      4\u001b[0m     \u001b[0mseg\u001b[0m \u001b[0;34m=\u001b[0m \u001b[0mcv2\u001b[0m\u001b[0;34m.\u001b[0m\u001b[0mimread\u001b[0m\u001b[0;34m(\u001b[0m\u001b[0mos\u001b[0m\u001b[0;34m.\u001b[0m\u001b[0mpath\u001b[0m\u001b[0;34m.\u001b[0m\u001b[0mjoin\u001b[0m\u001b[0;34m(\u001b[0m\u001b[0mtrain_seg_path\u001b[0m\u001b[0;34m,\u001b[0m \u001b[0mtrain_seg_list\u001b[0m\u001b[0;34m[\u001b[0m\u001b[0mi\u001b[0m\u001b[0;34m]\u001b[0m\u001b[0;34m)\u001b[0m\u001b[0;34m)\u001b[0m\u001b[0;34m\u001b[0m\u001b[0;34m\u001b[0m\u001b[0m\n\u001b[1;32m      5\u001b[0m \u001b[0;34m\u001b[0m\u001b[0m\n\u001b[0;32m----> 6\u001b[0;31m     \u001b[0mcv2\u001b[0m\u001b[0;34m.\u001b[0m\u001b[0mimwrite\u001b[0m\u001b[0;34m(\u001b[0m\u001b[0;34m'/content/drive/MyDrive/Cityscapes/final_train/img/subset_train/'\u001b[0m\u001b[0;34m+\u001b[0m\u001b[0mstr\u001b[0m\u001b[0;34m(\u001b[0m\u001b[0mi\u001b[0m\u001b[0;34m)\u001b[0m\u001b[0;34m+\u001b[0m\u001b[0;34m'.png'\u001b[0m\u001b[0;34m,\u001b[0m \u001b[0mimg\u001b[0m\u001b[0;34m)\u001b[0m\u001b[0;34m\u001b[0m\u001b[0;34m\u001b[0m\u001b[0m\n\u001b[0m\u001b[1;32m      7\u001b[0m     \u001b[0mcv2\u001b[0m\u001b[0;34m.\u001b[0m\u001b[0mimwrite\u001b[0m\u001b[0;34m(\u001b[0m\u001b[0;34m'/content/drive/MyDrive/Cityscapes/final_train/seg/subset_train/'\u001b[0m\u001b[0;34m+\u001b[0m\u001b[0mstr\u001b[0m\u001b[0;34m(\u001b[0m\u001b[0mi\u001b[0m\u001b[0;34m)\u001b[0m\u001b[0;34m+\u001b[0m\u001b[0;34m'.png'\u001b[0m\u001b[0;34m,\u001b[0m \u001b[0mseg\u001b[0m\u001b[0;34m)\u001b[0m\u001b[0;34m\u001b[0m\u001b[0;34m\u001b[0m\u001b[0m\n",
            "\u001b[0;31merror\u001b[0m: OpenCV(4.7.0) /io/opencv/modules/imgcodecs/src/loadsave.cpp:783: error: (-215:Assertion failed) !_img.empty() in function 'imwrite'\n"
          ]
        }
      ]
    },
    {
      "cell_type": "code",
      "source": [
        "val_img_list, val_seg_list = os.listdir(val_img_path), os.listdir(val_seg_path)\n",
        "for i in val_random_indices:\n",
        "    img = cv2.imread(os.path.join(val_img_path, val_img_list[i]))\n",
        "    seg = cv2.imread(os.path.join(val_seg_path, val_img_list[i]))\n",
        "\n",
        "    cv2.imwrite('/content/drive/MyDrive/Cityscapes/final_train/img/subset_val/'+str(i)+'.png', img)\n",
        "    cv2.imwrite('/content/drive/MyDrive/Cityscapes/final_train/seg/subset_val/'+str(i)+'.png', seg)\n",
        "\n"
      ],
      "metadata": {
        "colab": {
          "base_uri": "https://localhost:8080/",
          "height": 1000
        },
        "id": "l4Xg5LtE64g1",
        "outputId": "52c52ca6-f9f6-41f9-bc88-92046d35f954"
      },
      "execution_count": null,
      "outputs": [
        {
          "output_type": "error",
          "ename": "error",
          "evalue": "ignored",
          "traceback": [
            "\u001b[0;31m---------------------------------------------------------------------------\u001b[0m",
            "\u001b[0;31merror\u001b[0m                                     Traceback (most recent call last)",
            "\u001b[0;32m<ipython-input-14-0b08a678a36d>\u001b[0m in \u001b[0;36m<cell line: 2>\u001b[0;34m()\u001b[0m\n\u001b[1;32m      4\u001b[0m     \u001b[0mseg\u001b[0m \u001b[0;34m=\u001b[0m \u001b[0mcv2\u001b[0m\u001b[0;34m.\u001b[0m\u001b[0mimread\u001b[0m\u001b[0;34m(\u001b[0m\u001b[0mos\u001b[0m\u001b[0;34m.\u001b[0m\u001b[0mpath\u001b[0m\u001b[0;34m.\u001b[0m\u001b[0mjoin\u001b[0m\u001b[0;34m(\u001b[0m\u001b[0mval_seg_path\u001b[0m\u001b[0;34m,\u001b[0m \u001b[0mval_img_list\u001b[0m\u001b[0;34m[\u001b[0m\u001b[0mi\u001b[0m\u001b[0;34m]\u001b[0m\u001b[0;34m)\u001b[0m\u001b[0;34m)\u001b[0m\u001b[0;34m\u001b[0m\u001b[0;34m\u001b[0m\u001b[0m\n\u001b[1;32m      5\u001b[0m \u001b[0;34m\u001b[0m\u001b[0m\n\u001b[0;32m----> 6\u001b[0;31m     \u001b[0mcv2\u001b[0m\u001b[0;34m.\u001b[0m\u001b[0mimwrite\u001b[0m\u001b[0;34m(\u001b[0m\u001b[0;34m'/content/drive/MyDrive/Cityscapes/final_train/img/subset_val/'\u001b[0m\u001b[0;34m+\u001b[0m\u001b[0mstr\u001b[0m\u001b[0;34m(\u001b[0m\u001b[0mi\u001b[0m\u001b[0;34m)\u001b[0m\u001b[0;34m+\u001b[0m\u001b[0;34m'.png'\u001b[0m\u001b[0;34m,\u001b[0m \u001b[0mimg\u001b[0m\u001b[0;34m)\u001b[0m\u001b[0;34m\u001b[0m\u001b[0;34m\u001b[0m\u001b[0m\n\u001b[0m\u001b[1;32m      7\u001b[0m     \u001b[0mcv2\u001b[0m\u001b[0;34m.\u001b[0m\u001b[0mimwrite\u001b[0m\u001b[0;34m(\u001b[0m\u001b[0;34m'/content/drive/MyDrive/Cityscapes/final_train/seg/subset_val/'\u001b[0m\u001b[0;34m+\u001b[0m\u001b[0mstr\u001b[0m\u001b[0;34m(\u001b[0m\u001b[0mi\u001b[0m\u001b[0;34m)\u001b[0m\u001b[0;34m+\u001b[0m\u001b[0;34m'.png'\u001b[0m\u001b[0;34m,\u001b[0m \u001b[0mseg\u001b[0m\u001b[0;34m)\u001b[0m\u001b[0;34m\u001b[0m\u001b[0;34m\u001b[0m\u001b[0m\n\u001b[1;32m      8\u001b[0m \u001b[0;34m\u001b[0m\u001b[0m\n",
            "\u001b[0;31merror\u001b[0m: OpenCV(4.7.0) /io/opencv/modules/imgcodecs/src/loadsave.cpp:783: error: (-215:Assertion failed) !_img.empty() in function 'imwrite'\n"
          ]
        }
      ]
    }
  ]
}